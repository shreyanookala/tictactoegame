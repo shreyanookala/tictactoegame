{
 "cells": [
  {
   "cell_type": "markdown",
   "id": "1ef16c6c",
   "metadata": {},
   "source": [
    "# TIC TAC TOE GAME"
   ]
  },
  {
   "cell_type": "markdown",
   "id": "b3703ad0",
   "metadata": {},
   "source": []
  },
  {
   "cell_type": "markdown",
   "id": "9b3e50c1",
   "metadata": {},
   "source": [
    "**Step 1: Write a function that can print out a board.**"
   ]
  },
  {
   "cell_type": "code",
   "execution_count": null,
   "id": "b85d83a7",
   "metadata": {},
   "outputs": [],
   "source": [
    "\n",
    "from IPython.display import clear_output\n",
    "\n",
    "def display_board(board):\n",
    "    clear_output()  # Remember, this only works in jupyter!\n",
    "    \n",
    "    print('   |   |')\n",
    "    print(' ' + board[7] + ' | ' + board[8] + ' | ' + board[9])\n",
    "    print('   |   |')\n",
    "    print('-----------')\n",
    "    print('   |   |')\n",
    "    print(' ' + board[4] + ' | ' + board[5] + ' | ' + board[6])\n",
    "    print('   |   |')\n",
    "    print('-----------')\n",
    "    print('   |   |')\n",
    "    print(' ' + board[1] + ' | ' + board[2] + ' | ' + board[3])\n",
    "    print('   |   |')\n",
    "    "
   ]
  },
  {
   "cell_type": "markdown",
   "id": "6886cce2",
   "metadata": {},
   "source": [
    "**Test Step 1:** Run the function on a test version of the board."
   ]
  },
  {
   "cell_type": "code",
   "execution_count": null,
   "id": "96e64296",
   "metadata": {},
   "outputs": [],
   "source": [
    "\n",
    "test_board = ['#','X','O','X','O','X','O','X','O','X']\n",
    "display_board(test_board)\n",
    "    "
   ]
  },
  {
   "cell_type": "markdown",
   "id": "fed1f90d",
   "metadata": {},
   "source": [
    "**Step 2: Write a function that can take in a player input and assign their marker as 'X' or 'O'.**"
   ]
  },
  {
   "cell_type": "code",
   "execution_count": null,
   "id": "bd1589dd",
   "metadata": {},
   "outputs": [],
   "source": [
    "\n",
    "def player_input():\n",
    "    marker = ''\n",
    "    \n",
    "    while not (marker == 'X' or marker == 'O'):\n",
    "        marker = input('Player 1: Do you want to be X or O? ').upper()\n",
    "\n",
    "    if marker == 'X':\n",
    "        return ('X', 'O')\n",
    "    else:\n",
    "        return ('O', 'X')\n",
    "    "
   ]
  },
  {
   "cell_type": "markdown",
   "id": "223112d7",
   "metadata": {},
   "source": [
    "**Test Step 2:** Run the function to make sure it returns the desired output."
   ]
  },
  {
   "cell_type": "code",
   "execution_count": null,
   "id": "dbce30e5",
   "metadata": {},
   "outputs": [],
   "source": [
    "player_input()"
   ]
  },
  {
   "cell_type": "markdown",
   "id": "253a4db9",
   "metadata": {},
   "source": [
    "**Step 3: Write a function to place a marker on the board.**"
   ]
  },
  {
   "cell_type": "code",
   "execution_count": null,
   "id": "b891e139",
   "metadata": {},
   "outputs": [],
   "source": [
    "\n",
    "def place_marker(board, marker, position):\n",
    "    board[position] = marker\n",
    "    "
   ]
  },
  {
   "cell_type": "markdown",
   "id": "58b19c61",
   "metadata": {},
   "source": [
    "**Test Step 3:** Run the place marker function using test parameters and display the modified board."
   ]
  },
  {
   "cell_type": "code",
   "execution_count": null,
   "id": "2eaacf11",
   "metadata": {},
   "outputs": [],
   "source": [
    "\n",
    "place_marker(test_board,'$',8)\n",
    "display_board(test_board)\n",
    "    "
   ]
  },
  {
   "cell_type": "markdown",
   "id": "e553422e",
   "metadata": {},
   "source": [
    "**Step 4: Write a function to check if someone has won.**"
   ]
  },
  {
   "cell_type": "code",
   "execution_count": null,
   "id": "4891f373",
   "metadata": {},
   "outputs": [],
   "source": [
    "\n",
    "def win_check(board, mark):\n",
    "    \n",
    "    return ((board[7] == mark and board[8] == mark and board[9] == mark) or\n",
    "    (board[4] == mark and board[5] == mark and board[6] == mark) or \n",
    "    (board[1] == mark and board[2] == mark and board[3] == mark) or\n",
    "    (board[7] == mark and board[4] == mark and board[1] == mark) or \n",
    "    (board[8] == mark and board[5] == mark and board[2] == mark) or \n",
    "    (board[9] == mark and board[6] == mark and board[3] == mark) or\n",
    "    (board[7] == mark and board[5] == mark and board[3] == mark) or \n",
    "    (board[9] == mark and board[5] == mark and board[1] == mark))\n",
    "    "
   ]
  },
  {
   "cell_type": "markdown",
   "id": "8985135b",
   "metadata": {},
   "source": [
    "**Test Step 4:** Run the win_check function against the test_board."
   ]
  },
  {
   "cell_type": "code",
   "execution_count": null,
   "id": "71923659",
   "metadata": {},
   "outputs": [],
   "source": [
    "win_check(test_board,'X')"
   ]
  },
  {
   "cell_type": "markdown",
   "id": "69127de4",
   "metadata": {},
   "source": [
    "**Step 5: Write a function that randomly decides which player goes first.**"
   ]
  },
  {
   "cell_type": "code",
   "execution_count": null,
   "id": "100d37a7",
   "metadata": {},
   "outputs": [],
   "source": [
    "\n",
    "import random\n",
    "\n",
    "def choose_first():\n",
    "    if random.randint(0, 1) == 0:\n",
    "        return 'Player 2'\n",
    "    else:\n",
    "        return 'Player 1'\n",
    "    "
   ]
  },
  {
   "cell_type": "markdown",
   "id": "7728424a",
   "metadata": {},
   "source": [
    "**Step 6: Write a function that checks if a space on the board is freely available.**"
   ]
  },
  {
   "cell_type": "code",
   "execution_count": null,
   "id": "c33f4d39",
   "metadata": {},
   "outputs": [],
   "source": [
    "\n",
    "def space_check(board, position):\n",
    "    return board[position] == ' '\n",
    "    "
   ]
  },
  {
   "cell_type": "markdown",
   "id": "f48d5fc8",
   "metadata": {},
   "source": [
    "**Step 7: Write a function that checks if the board is full.**"
   ]
  },
  {
   "cell_type": "code",
   "execution_count": null,
   "id": "e80f2d2a",
   "metadata": {},
   "outputs": [],
   "source": [
    "\n",
    "def full_board_check(board):\n",
    "    for i in range(1,10):\n",
    "        if space_check(board, i):\n",
    "            return False\n",
    "    return True\n",
    "    "
   ]
  },
  {
   "cell_type": "markdown",
   "id": "55951b20",
   "metadata": {},
   "source": [
    "**Step 8: Write a function that asks for a player's next position.**"
   ]
  },
  {
   "cell_type": "code",
   "execution_count": null,
   "id": "ea24063c",
   "metadata": {},
   "outputs": [],
   "source": [
    "\n",
    "def player_choice(board):\n",
    "    position = 0\n",
    "    \n",
    "    while position not in [1,2,3,4,5,6,7,8,9] or not space_check(board, position):\n",
    "        position = int(input('Choose your next position: (1-9) '))\n",
    "        \n",
    "    return position\n",
    "    "
   ]
  }
 ],
 "metadata": {
  "language_info": {
   "name": "python"
  }
 },
 "nbformat": 4,
 "nbformat_minor": 5
}
