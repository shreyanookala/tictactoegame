{
 "cells": [
  {
   "cell_type": "markdown",
   "metadata": {},
   "source": [
    "# Milestone Project 1: Tic-Tac-Toe Game"
   ]
  },
  {
   "cell_type": "markdown",
   "metadata": {},
   "source": [
    "**Step 1:** Write a function that can print out a board. Set up your board as a list, where each index 1-9 corresponds with a number on a number pad, so you get a 3 by 3 board representation."
   ]
  },
  {
   "cell_type": "code",
   "execution_count": 1,
   "metadata": {},
   "outputs": [],
   "source": [
    "from IPython.display import clear_output\n",
    "\n",
    "def display_board(board):\n",
    "    clear_output()  # Remember, this only works in jupyter!\n",
    "    print('   |   |')\n",
    "    print(' ' + board[7] + ' | ' + board[8] + ' | ' + board[9])\n",
    "    print('   |   |')\n",
    "    print('-----------')\n",
    "    print('   |   |')\n",
    "    print(' ' + board[4] + ' | ' + board[5] + ' | ' + board[6])\n",
    "    print('   |   |')\n",
    "    print('-----------')\n",
    "    print('   |   |')\n",
    "    print(' ' + board[1] + ' | ' + board[2] + ' | ' + board[3])\n",
    "    print('   |   |')"
   ]
  },
  {
   "cell_type": "markdown",
   "metadata": {},
   "source": [
    "**Step 2:** Test the `display_board` function with a test board."
   ]
  },
  {
   "cell_type": "code",
   "execution_count": 2,
   "metadata": {},
   "outputs": [
    {
     "name": "stdout",
     "output_type": "stream",
     "text": [
      "   |   |\n",
      " X | O | X\n",
      "   |   |\n",
      "-----------\n",
      "   |   |\n",
      " O | X | O\n",
      "   |   |\n",
      "-----------\n",
      "   |   |\n",
      " X | O | X\n",
      "   |   |\n"
     ]
    }
   ],
   "source": [
    "test_board = ['#','X','O','X','O','X','O','X','O','X']\n",
    "display_board(test_board)"
   ]
  },
  {
   "cell_type": "markdown",
   "metadata": {},
   "source": [
    "**Step 3:** Write a function that can take in a player input and assign their marker as 'X' or 'O'."
   ]
  },
  {
   "cell_type": "code",
   "execution_count": 3,
   "metadata": {},
   "outputs": [],
   "source": [
    "def player_input():\n",
    "    marker = ''\n",
    "    while not (marker == 'X' or marker == 'O'):\n",
    "        marker = input('Player 1: Do you want to be X or O? ').upper()\n",
    "    if marker == 'X':\n",
    "        return ('X', 'O')\n",
    "    else:\n",
    "        return ('O', 'X')"
   ]
  },
  {
   "cell_type": "markdown",
   "metadata": {},
   "source": [
    "**Step 4:** Write a function that takes in the board list object, a marker ('X' or 'O'), and a desired position (number 1-9) and assigns it to the board."
   ]
  },
  {
   "cell_type": "code",
   "execution_count": 4,
   "metadata": {},
   "outputs": [],
   "source": [
    "def place_marker(board, marker, position):\n",
    "    board[position] = marker"
   ]
  },
  {
   "cell_type": "markdown",
   "metadata": {},
   "source": [
    "**Step 5:** Write a function that uses the random module to randomly decide which player goes first."
   ]
  },
  {
   "cell_type": "code",
   "execution_count": 5,
   "metadata": {},
   "outputs": [],
   "source": [
    "import random\n",
    "\n",
    "def choose_first():\n",
    "    if random.randint(0, 1) == 0:\n",
    "        return 'Player 2'\n",
    "    else:\n",
    "        return 'Player 1'"
   ]
  },
  {
   "cell_type": "markdown",
   "metadata": {},
   "source": [
    "**Step 6:** Write a function that returns a boolean indicating whether a space on the board is freely available."
   ]
  },
  {
   "cell_type": "code",
   "execution_count": 6,
   "metadata": {},
   "outputs": [],
   "source": [
    "def space_check(board, position):\n",
    "    return board[position] == ' '"
   ]
  },
  {
   "cell_type": "markdown",
   "metadata": {},
   "source": [
    "**Step 7:** Write a function that checks if the board is full and returns a boolean value. True if full, False otherwise."
   ]
  },
  {
   "cell_type": "code",
   "execution_count": 7,
   "metadata": {},
   "outputs": [],
   "source": [
    "def full_board_check(board):\n",
    "    for i in range(1,10):\n",
    "        if space_check(board, i):\n",
    "            return False\n",
    "    return True"
   ]
  },
  {
   "cell_type": "markdown",
   "metadata": {},
   "source": [
    "**Step 8:** Write a function that asks for a player's next position (as a number 1-9) and then uses the function from step 6 to check if its a free position."
   ]
  },
  {
   "cell_type": "code",
   "execution_count": 8,
   "metadata": {},
   "outputs": [],
   "source": [
    "def player_choice(board):\n",
    "    position = 0\n",
    "    while position not in [1,2,3,4,5,6,7,8,9] or not space_check(board, position):\n",
    "        position = int(input('Choose your next position: (1-9) '))\n",
    "    return position"
   ]
  },
  {
   "cell_type": "markdown",
   "metadata": {},
   "source": [
    "**Step 9:** Write a function that asks the player if they want to play again and returns a boolean True if they do want to play again."
   ]
  },
  {
   "cell_type": "code",
   "execution_count": 9,
   "metadata": {},
   "outputs": [],
   "source": [
    "def replay():\n",
    "    return input('Do you want to play again? Enter Yes or No: ').lower().startswith('y')"
   ]
  },
  {
   "cell_type": "markdown",
   "metadata": {},
   "source": [
    "**Step 10:** Here comes the hard part! Use while loops and the functions you've made to run the game!"
   ]
  },
  {
   "cell_type": "code",
   "execution_count": 10,
   "metadata": {},
   "outputs": [],
   "source": [
    "print('Welcome to Tic Tac Toe!')\n",
    "\n",
    "while True:\n",
    "    # Reset the board\n",
    "    theBoard = [' '] * 10\n",
    "    player1_marker, player2_marker = player_input()\n",
    "    turn = choose_first()\n",
    "    print(turn + ' will go first.')\n",
    "    \n",
    "    play_game = input('Are you ready to play? Enter Yes or No.')\n",
    "    \n",
    "    if play_game.lower()[0] == 'y':\n",
    "        game_on = True\n",
    "    else:\n",
    "        game_on = False\n",
    "\n",
    "    while game_on:\n",
    "        if turn == 'Player 1':\n",
    "            # Player1's turn.\n",
    "            display_board(theBoard)\n",
    "            position = player_choice(theBoard)\n",
    "            place_marker(theBoard, player1_marker, position)\n",
    "\n",
    "            if win_check(theBoard, player1_marker):\n",
    "                display_board(theBoard)\n",
    "                print('Congratulations! You have won the game!')\n",
    "                game_on = False\n",
    "            else:\n",
    "                if full_board_check(theBoard):\n",
    "                    display_board(theBoard)\n",
    "                    print('The game is a draw!')\n",
    "                    break\n",
    "                else:\n",
    "                    turn = 'Player 2'\n",
    "\n        else:\n",
    "            # Player2's turn.\n",
    "            display_board(theBoard)\n",
    "            position = player_choice(theBoard)\n",
    "            place_marker(theBoard, player2_marker, position)\n",
    "\n",
    "            if win_check(theBoard, player2_marker):\n",
    "                display_board(theBoard)\n",
    "                print('Player 2 has won!')\n",
    "                game_on = False\n",
    "            else:\n",
    "                if full_board_check(theBoard):\n",
    "                    display_board(theBoard)\n",
    "                    print('The game is a draw!')\n",
    "                    break\n",
    "                else:\n",
    "                    turn = 'Player 1'\n",
    "\n",
    "    if not replay():\n",
    "        break"
   ]
  },
  {
   "cell_type": "markdown",
   "metadata": {},
   "source": [
    "## Example Outputs\n",
    "\n",
    "1. When Player 1 wins:\n",
    "\n",
    "```\n",
    "Welcome to Tic Tac Toe!\n",
    "Player 1: Do you want to be X or O? X\n",
    "Player 2 will go first.\n",
    "Are you ready to play? Enter Yes or No. Yes\n",
    "   |   |\n",
    "   |   |  \n",
    "   |   |\n",
    "-----------\n",
    "   |   |\n",
    "   |   |  \n",
    "   |   |\n",
    "-----------\n",
    "   |   |\n",
    "   |   |  \n",
    "   |   |\n",
    "Choose your next position: (1-9) 5\n",
    "   |   |\n",
    "   |   |  \n",
    "   |   |\n",
    "-----------\n",
    "   |   |\n",
    "   | X |  \n",
    "   |   |\n",
    "-----------\n",
    "   |   |\n",
    "   |   |  \n",
    "   |   |\n",
    "Choose your next position: (1-9) 1\n",
    "   |   |\n",
    " O |   |  \n",
    "   |   |\n",
    "-----------\n",
    "   |   |\n",
    "   | X |  \n",
    "   |   |\n",
    "-----------\n",
    "   |   |\n",
    "   |   |  \n",
    "   |   |\n",
    "Choose your next position: (1-9) 2\n",
    "   |   |\n",
    " O | X |  \n",
    "   |   |\n",
    "-----------\n",
    "   |   |\n",
    "   | X |  \n",
    "   |   |\n",
    "-----------\n",
    "   |   |\n",
    "   |   |  \n",
    "   |   |\n",
    "Choose your next position: (1-9) 3\n",
    "   |   |\n",
    " O | X | X\n",
    "   |   |\n",
    "-----------\n",
    "   |   |\n",
    "   | X |  \n",
    "   |   |\n",
    "-----------\n",
    "   |   |\n",
    "   |   |  \n",
    "   |   |\n",
    "Congratulations! You have won the game!\n",
    "Do you want to play again? Enter Yes or No: No\n",
    "```\n",
    "\n",
    "2. When the game is a draw:\n",
    "\n",
    "```\n",
    "Welcome to Tic Tac Toe!\n",
    "Player 1: Do you want to be X or O? X\n",
    "Player 1 will go first.\n",
    "Are you ready to play? Enter Yes or No. Yes\n",
    "   |   |\n",
    "   |   |  \n",
    "   |   |\n",
    "-----------\n",
    "   |   |\n",
    "   | X |  \n",
    "   |   |\n",
    "-----------\n",
    "   |   |\n",
    "   |   |  \n",
    "   |   |\n",
    "Choose your next position: (1-9) 1\n",
    "   |   |\n",
    " X |   |  \n",
    "   |   |\n",
    "-----------\n",
    "   |   |\n",
    "   | X |  \n",
    "   |   |\n",
    "-----------\n",
    "   |   |\n",
    "   |   |  \n",
    "   |   |\n",
    "Choose your next position: (1-9) 3\n",
    "   |   |\n",
    " X |   | X\n",
    "   |   |\n",
    "-----------\n",
    "   |   |\n",
    "   | X |  \n",
    "   |   |\n",
    "-----------\n",
    "   |   |\n",
    "   |   |  \n",
    "   |   |\n",
    "Choose your next position: (1-9) 5\n",
    "   |   |\n",
    " X |   | X\n",
    "   |   |\n",
    "-----------\n",
    "   |   |\n",
    "   | X |  \n",
    "   |   |\n",
    "-----------\n",
    "   |   |\n",
    "   |   |  \n",
    "   | O |\n",
    "Choose your next position: (1-9) 4\n",
    "   |   |\n",
    " X | O | X\n",
    "   |   |\n",
    "-----------\n",
    "   |   |\n",
    "   | X |  \n",
    "   |   |\n",
    "-----------\n",
    "   |   |\n",
    "   | O |  \n",
    "   | O |\n",
    "Choose your next position: (1-9) 2\n",
    "   |   |\n",
    " X | O | X\n",
    "   |   |\n",
    "-----------\n",
    "   |   |\n",
    "   | X |  \n",
    "   |   |\n",
    "-----------\n",
    "   |   |\n",
    "   | O |  \n",
    "   | O |\n",
    "The game is a draw!\n",
    "Do you want to play again? Enter Yes or No: No\n",
    "```\n"
   ]
  }
 ],
 "metadata": {
  "kernelspec": {
   "display_name": "Python 3",
   "language": "python",
   "name": "python3"
  },
  "language_info": {
   "codemirror_mode": {
    "name": "ipython",
    "version": 3
   },
   "file_extension": ".py",
   "mimetype": "text/x-python",
   "name": "python",
   "pygments_lexer": "ipython3",
   "version": "3.x"
  }
 },
 "nbformat": 4,
 "nbformat_minor": 2
}
